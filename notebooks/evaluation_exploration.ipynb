{
 "cells": [
  {
   "cell_type": "markdown",
   "metadata": {},
   "source": [
    "# Space titanic - evaluation exploration\n",
    "\n",
    "> Aim: Decide on a set of evaluation metrics and plots\n",
    "\n",
    "## Import packages"
   ]
  },
  {
   "cell_type": "code",
   "execution_count": 27,
   "metadata": {},
   "outputs": [],
   "source": [
    "import pandas as pd\n",
    "from joblib import load\n",
    "from sklearn import metrics"
   ]
  },
  {
   "cell_type": "markdown",
   "metadata": {},
   "source": [
    "## Prediction\n",
    "\n",
    "Predict using out trained model (stored as a `.joblib`) the transported passengers in the validation and test dataset."
   ]
  },
  {
   "cell_type": "code",
   "execution_count": 28,
   "metadata": {},
   "outputs": [],
   "source": [
    "test = pd.read_csv(\"../data/processed/test_engineered.csv\")\n",
    "val = pd.read_csv(\"../data/processed/val_engineered.csv\")\n",
    "clf = load(\"../model/model.joblib\")"
   ]
  },
  {
   "cell_type": "code",
   "execution_count": 29,
   "metadata": {},
   "outputs": [],
   "source": [
    "X_val = val.drop(columns=\"transported\")\n",
    "y_val = val[\"transported\"]\n",
    "y_pred = clf.predict(X_val)"
   ]
  },
  {
   "cell_type": "code",
   "execution_count": 30,
   "metadata": {},
   "outputs": [],
   "source": [
    "y_test = clf.predict(test.drop(columns=\"passengerid\"))"
   ]
  },
  {
   "cell_type": "markdown",
   "metadata": {},
   "source": [
    "## Evaluation\n",
    "\n",
    "The Kaggle competition evaluates the predictions using an accuracy. I include the F1 score and precision/recall out of interest to compare the performance model across improvement iterations."
   ]
  },
  {
   "cell_type": "code",
   "execution_count": 31,
   "metadata": {},
   "outputs": [
    {
     "name": "stdout",
     "output_type": "stream",
     "text": [
      "Accuracy: 0.7994480220791168\n",
      "F1 score: 0.793755912961211\n",
      "Precision: 0.811411992263056\n",
      "Recall: 0.7768518518518519\n"
     ]
    }
   ],
   "source": [
    "print(f\"Accuracy: {metrics.accuracy_score(y_val, y_pred)}\")\n",
    "print(f\"F1 score: {metrics.f1_score(y_val, y_pred)}\")\n",
    "print(f\"Precision: {metrics.precision_score(y_val, y_pred)}\")\n",
    "print(f\"Recall: {metrics.recall_score(y_val, y_pred)}\")"
   ]
  },
  {
   "cell_type": "markdown",
   "metadata": {},
   "source": [
    "It's interesting to take a look at the ROC curve as well. However, for the engineered part of the evaluation pipeline, I will omit this for simplicity."
   ]
  },
  {
   "cell_type": "code",
   "execution_count": 11,
   "metadata": {},
   "outputs": [
    {
     "data": {
      "text/plain": [
       "<sklearn.metrics._plot.roc_curve.RocCurveDisplay at 0x17cfc3ee0>"
      ]
     },
     "execution_count": 11,
     "metadata": {},
     "output_type": "execute_result"
    },
    {
     "data": {
      "image/png": "[encoded data removed]",
      "text/plain": [
       "<Figure size 432x288 with 1 Axes>"
      ]
     },
     "metadata": {
      "needs_background": "light"
     },
     "output_type": "display_data"
    }
   ],
   "source": [
    "metrics.RocCurveDisplay.from_estimator(clf, X_val, y_val) "
   ]
  },
  {
   "cell_type": "markdown",
   "metadata": {},
   "source": [
    "We need to create a submission `.csv` for the test predictions to submit to Kaggle."
   ]
  },
  {
   "cell_type": "code",
   "execution_count": 20,
   "metadata": {},
   "outputs": [],
   "source": [
    "submission = pd.DataFrame({\"PassengerId\": test[\"passengerid\"], \"Transported\": y_test})\n",
    "submission[\"Transported\"] = submission[\"Transported\"].astype(bool)\n",
    "submission.to_csv(\"../data/output/submission.csv\", index=False)"
   ]
  }
 ],
 "metadata": {
  "interpreter": {
   "hash": "d6271505c7af7ebb91371fd6c0aba9f373380177cc125345c7965c9cdcabec36"
  },
  "kernelspec": {
   "display_name": "Python 3.10.4 ('spacetitanic')",
   "language": "python",
   "name": "python3"
  },
  "language_info": {
   "codemirror_mode": {
    "name": "ipython",
    "version": 3
   },
   "file_extension": ".py",
   "mimetype": "text/x-python",
   "name": "python",
   "nbconvert_exporter": "python",
   "pygments_lexer": "ipython3",
   "version": "3.10.4"
  },
  "orig_nbformat": 4
 },
 "nbformat": 4,
 "nbformat_minor": 2
}
